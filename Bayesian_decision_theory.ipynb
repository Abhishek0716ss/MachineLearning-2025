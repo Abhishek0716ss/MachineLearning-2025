{
  "nbformat": 4,
  "nbformat_minor": 0,
  "metadata": {
    "colab": {
      "provenance": [],
      "authorship_tag": "ABX9TyM5qgIxAydpzP8DsxIqImxv",
      "include_colab_link": true
    },
    "kernelspec": {
      "name": "python3",
      "display_name": "Python 3"
    },
    "language_info": {
      "name": "python"
    }
  },
  "cells": [
    {
      "cell_type": "markdown",
      "metadata": {
        "id": "view-in-github",
        "colab_type": "text"
      },
      "source": [
        "<a href=\"https://colab.research.google.com/github/Abhishek0716ss/MachineLearning-2025/blob/main/Bayesian_decision_theory.ipynb\" target=\"_parent\"><img src=\"https://colab.research.google.com/assets/colab-badge.svg\" alt=\"Open In Colab\"/></a>"
      ]
    },
    {
      "cell_type": "code",
      "source": [
        "import numpy as np\n",
        "import pandas as pd\n",
        "from sklearn.datasets import load_iris\n",
        "from sklearn.model_selection import train_test_split\n",
        "from scipy.stats import multivariate_normal\n",
        "from sklearn.metrics import accuracy_score, confusion_matrix"
      ],
      "metadata": {
        "id": "zU-jM-G6dW9h"
      },
      "execution_count": 1,
      "outputs": []
    },
    {
      "cell_type": "code",
      "source": [
        "data = pd.read_csv(\"insurance.csv\")\n",
        "\n",
        "data['smoker'] = data['smoker'].map({'yes': 1, 'no': 0})\n",
        "data['sex'] = data['sex'].map({'female': 1, 'male': 0})\n",
        "le_region = LabelEncoder()\n",
        "data['region'] = le_region.fit_transform(data['region'])\n",
        "\n",
        "features = ['age', 'sex', 'bmi', 'children', 'region']\n",
        "X = data[features].values\n",
        "y = data['smoker'].values\n",
        "\n",
        "X_train, X_test, y_train, y_test = train_test_split(X, y, test_size=0.3, random_state=42)\n",
        "\n",
        "classes = np.unique(y_train)\n",
        "priors = {c: np.mean(y_train == c) for c in classes}\n",
        "means = {}\n",
        "covariances = {}\n",
        "\n",
        "for c in classes:\n",
        "    X_c = X_train[y_train == c]\n",
        "    means[c] = np.mean(X_c, axis=0)\n",
        "    covariances[c] = np.cov(X_c, rowvar=False)\n",
        "\n",
        "def predict_bayes(X):\n",
        "    predictions = []\n",
        "    for x in X:\n",
        "        posteriors = []\n",
        "        for c in classes:\n",
        "            likelihood = multivariate_normal.pdf(x, mean=means[c], cov=covariances[c])\n",
        "            posterior = likelihood * priors[c]\n",
        "            posteriors.append(posterior)\n",
        "        predictions.append(np.argmax(posteriors))\n",
        "    return np.array(predictions)\n",
        "\n",
        "y_pred = predict_bayes(X_test)\n",
        "\n",
        "print(\"Accuracy:\", accuracy_score(y_test, y_pred))\n",
        "print(\"Confusion Matrix:\\n\", confusion_matrix(y_test, y_pred))\n"
      ],
      "metadata": {
        "colab": {
          "base_uri": "https://localhost:8080/"
        },
        "id": "D5ml7IkRfV8b",
        "outputId": "ea331704-e781-4b3b-c961-04b2caedbd11"
      },
      "execution_count": 18,
      "outputs": [
        {
          "output_type": "stream",
          "name": "stdout",
          "text": [
            "Accuracy: 0.8059701492537313\n",
            "Confusion Matrix:\n",
            " [[323   0]\n",
            " [ 78   1]]\n"
          ]
        }
      ]
    },
    {
      "cell_type": "code",
      "source": [],
      "metadata": {
        "id": "-rFzG_VJg9KP"
      },
      "execution_count": null,
      "outputs": []
    },
    {
      "cell_type": "code",
      "source": [],
      "metadata": {
        "id": "8fRInjrKg_Yq"
      },
      "execution_count": null,
      "outputs": []
    }
  ]
}